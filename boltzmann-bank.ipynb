{
 "cells": [
  {
   "cell_type": "markdown",
   "metadata": {},
   "source": [
    "# The Boltzmann Bank"
   ]
  },
  {
   "cell_type": "code",
   "execution_count": 1,
   "metadata": {},
   "outputs": [],
   "source": [
    "import seaborn as sns\n",
    "\n",
    "from model import BoltzmannBank, Individual, Bank"
   ]
  },
  {
   "cell_type": "markdown",
   "metadata": {},
   "source": [
    "## Introduction\n",
    "\n",
    "This is a very simple simulation of economic activity. There are a bunch of individuals that \"spend\" money by randomly giving some to another individual; the money an individual receives from others is its \"income\".\n",
    "\n",
    "Money in this model takes the form of bank liabilities. That is, each individual has an account with the bank; and when one individual gives money to another, the bank reduces the balance of the giver's account and increases the balance of the receiver's.\n",
    "\n",
    "\n",
    "In this agent-based model there are many `Individual`s and a single `Bank`. The `Bank` provides a means of payment that the `Individual`s can use as money. Each turn, each `Individual` wants to give one unit of money to another `Individual`. If they can't (because they don't have enough money) they can choose instead to apply for a loan from the `Bank` as long as they are beneath their personal borrowing limit; otherwise they do nothing.\n",
    "\n",
    "If an `Individual` has a loan due (or overdue) on a step, they will try to repay it before giving anyone else money. If they do not have enough money, they will apply for a loan if they are beneath their borrowing limit; otherwise, they will do nothing and hope to repay the loan later. If they do have enough to repay the loan, they will repay it; if there is any money leftover, they will give a unit to someone else.\n",
    "\n",
    "## Unaddressed questions\n",
    "\n",
    "+ How can individuals roll over their loans? That is, how \"beneath\" their borrowing limit do they need to be?"
   ]
  },
  {
   "cell_type": "markdown",
   "metadata": {},
   "source": [
    "## A model without loans\n",
    "\n",
    "Let's start with a simulation without any loans. In this model, individuals will be gifted a specifiable amount of money when they first open their account (during the initialization of the model). After that, the only way individuals can get more money is if they receive some from other individuals. The money supply will therefore be constant throughout the simulation."
   ]
  },
  {
   "cell_type": "code",
   "execution_count": 2,
   "metadata": {},
   "outputs": [],
   "source": [
    "no_loans_model = BoltzmannBank(\n",
    "    num_individuals = 100,\n",
    "    init_gift = 1,\n",
    "    debt_limit = 0,\n",
    ")\n",
    "\n",
    "for _ in range(100):\n",
    "    no_loans_model.step()"
   ]
  },
  {
   "cell_type": "code",
   "execution_count": 8,
   "metadata": {},
   "outputs": [
    {
     "data": {
      "text/plain": [
       "100.0"
      ]
     },
     "execution_count": 8,
     "metadata": {},
     "output_type": "execute_result"
    }
   ],
   "source": [
    "no_loans_model.money_supply"
   ]
  },
  {
   "cell_type": "code",
   "execution_count": 7,
   "metadata": {},
   "outputs": [
    {
     "data": {
      "image/png": "[encoded data removed]",
      "text/plain": [
       "<Figure size 640x480 with 1 Axes>"
      ]
     },
     "metadata": {},
     "output_type": "display_data"
    }
   ],
   "source": [
    "sns.histplot(no_loans_model.individual_wealth_curve, discrete=True);"
   ]
  },
  {
   "cell_type": "markdown",
   "metadata": {},
   "source": [
    "## A model with unlimited loans\n",
    "\n",
    "Let's look next at a simulation with an unlimited amount of loans"
   ]
  },
  {
   "cell_type": "code",
   "execution_count": null,
   "metadata": {},
   "outputs": [],
   "source": [
    "model = BoltzmannBank(\n",
    "    num_individuals = 100,\n",
    "    individual_loan_limit = 1,\n",
    "    loan_review_limit = 10,\n",
    ")"
   ]
  },
  {
   "cell_type": "code",
   "execution_count": null,
   "metadata": {},
   "outputs": [],
   "source": [
    "num_steps = 100\n",
    "\n",
    "for _ in range(num_steps):\n",
    "    model.step()"
   ]
  },
  {
   "cell_type": "markdown",
   "metadata": {},
   "source": [
    "## Visualization"
   ]
  },
  {
   "cell_type": "code",
   "execution_count": null,
   "metadata": {},
   "outputs": [],
   "source": [
    "model_df = model.datacollector.get_model_vars_dataframe()\n",
    "agent_df = model.datacollector.get_agent_vars_dataframe()\n",
    "individual_df = model.datacollector.get_agenttype_vars_dataframe(Individual)"
   ]
  },
  {
   "cell_type": "markdown",
   "metadata": {},
   "source": [
    "### The Money Supply\n",
    "\n",
    "For our simple model, the money supply is entirely composed bank liabilities."
   ]
  },
  {
   "cell_type": "code",
   "execution_count": null,
   "metadata": {},
   "outputs": [],
   "source": [
    "money_supply = model_df[\"Money Supply\"]\n",
    "\n",
    "g = sns.lineplot(data=money_supply)\n",
    "g.set(title=\"Money Supply\", xlabel=\"Steps\", ylabel=\"Currency Units\");"
   ]
  },
  {
   "cell_type": "markdown",
   "metadata": {},
   "source": [
    "### Total Spending"
   ]
  },
  {
   "cell_type": "code",
   "execution_count": null,
   "metadata": {},
   "outputs": [],
   "source": [
    "total_spending = model_df[\"Total Spending\"]\n",
    "\n",
    "g = sns.lineplot(data=total_spending)\n",
    "g.set(title=\"Total Spending\", xlabel=\"Steps\", ylabel=\"Currency Units\");"
   ]
  },
  {
   "cell_type": "markdown",
   "metadata": {},
   "source": [
    "### The Individual Wealth Distribution\n",
    "\n",
    "For our very simple model, each individual's wealth is its quantity of money, which is to say the balance of its bank account."
   ]
  },
  {
   "cell_type": "code",
   "execution_count": null,
   "metadata": {},
   "outputs": [],
   "source": [
    "# last_step = individual_df.index.get_level_values(\"Step\").max()\n",
    "wealth_curve = individual_df.xs(num_steps, level=\"Step\")[\"Wealth\"].sort_values().values\n",
    "\n",
    "g =sns.histplot(wealth_curve, discrete=True)\n",
    "g.set(title=\"Individual Wealth Distribution\", xlabel=\"Wealth\");"
   ]
  },
  {
   "cell_type": "markdown",
   "metadata": {},
   "source": [
    "### The Individual Wealth Gini Index"
   ]
  },
  {
   "cell_type": "code",
   "execution_count": null,
   "metadata": {},
   "outputs": [],
   "source": [
    "wealth_gini = model_df[\"Individual Wealth Gini\"]\n",
    "\n",
    "g = sns.lineplot(data=wealth_gini)\n",
    "g.set(title=\"Individual Wealth Gini Index\", xlabel=\"steps\");"
   ]
  },
  {
   "cell_type": "markdown",
   "metadata": {},
   "source": [
    "### The Individual Income Distribution\n",
    "\n",
    "We can also look at the income distribution of our individuals."
   ]
  },
  {
   "cell_type": "code",
   "execution_count": null,
   "metadata": {},
   "outputs": [],
   "source": [
    "income_curve = individual_df.xs(num_steps, level=\"Step\")[\"Income\"].sort_values().values\n",
    "\n",
    "g =sns.histplot(income_curve, discrete=True)\n",
    "g.set(title=\"Individual Income Distribution\", xlabel=\"Income\");"
   ]
  },
  {
   "cell_type": "markdown",
   "metadata": {},
   "source": [
    "### The Individual Income Gini Index"
   ]
  },
  {
   "cell_type": "code",
   "execution_count": null,
   "metadata": {},
   "outputs": [],
   "source": [
    "income_gini = model_df[\"Individual Income Gini\"]\n",
    "\n",
    "g = sns.lineplot(data=income_gini)\n",
    "g.set(title=\"Individual Income Gini Index\", xlabel=\"steps\");"
   ]
  },
  {
   "cell_type": "markdown",
   "metadata": {},
   "source": [
    "### The Individual Spending Distribution"
   ]
  },
  {
   "cell_type": "code",
   "execution_count": null,
   "metadata": {},
   "outputs": [],
   "source": [
    "spending_curve = individual_df.xs(num_steps, level=\"Step\")[\"Spending\"].sort_values().values\n",
    "\n",
    "g =sns.histplot(spending_curve, discrete=True)\n",
    "g.set(title=\"Individual Spending Distribution\", xlabel=\"Spending\");"
   ]
  },
  {
   "cell_type": "markdown",
   "metadata": {},
   "source": [
    "### The Individual Spending Gini Index"
   ]
  },
  {
   "cell_type": "code",
   "execution_count": null,
   "metadata": {},
   "outputs": [],
   "source": [
    "spending_gini = model_df[\"Individual Spending Gini\"]\n",
    "\n",
    "g = sns.lineplot(data=spending_gini)\n",
    "g.set(title=\"Individual Spending Gini Index\", xlabel=\"steps\");"
   ]
  },
  {
   "cell_type": "markdown",
   "metadata": {},
   "source": [
    "### Comparing the Distributions of Wealth, Income and Spending\n",
    "\n",
    "In our very simple model, individuals accumulate wealth by having an income in excess of their spending."
   ]
  },
  {
   "cell_type": "code",
   "execution_count": null,
   "metadata": {},
   "outputs": [],
   "source": [
    "wis_df = individual_df.xs(num_steps, level=\"Step\").sort_values(by=\"Wealth\")\n",
    "wis_df.index = range(1, len(wis_df) + 1)\n",
    "long_wis_df = wis_df.reset_index().melt(id_vars=\"index\", var_name=\"Metric\", value_name=\"Value\")\n",
    "\n",
    "g = sns.lineplot(data=long_wis_df, x=\"index\", y=\"Value\", hue=\"Metric\")\n",
    "g.set(title=\"Comparison of Wealth, Income and Spending Curves\");"
   ]
  },
  {
   "cell_type": "code",
   "execution_count": null,
   "metadata": {},
   "outputs": [],
   "source": []
  },
  {
   "cell_type": "code",
   "execution_count": null,
   "metadata": {},
   "outputs": [],
   "source": []
  }
 ],
 "metadata": {
  "kernelspec": {
   "display_name": ".venv",
   "language": "python",
   "name": "python3"
  },
  "language_info": {
   "codemirror_mode": {
    "name": "ipython",
    "version": 3
   },
   "file_extension": ".py",
   "mimetype": "text/x-python",
   "name": "python",
   "nbconvert_exporter": "python",
   "pygments_lexer": "ipython3",
   "version": "3.13.2"
  }
 },
 "nbformat": 4,
 "nbformat_minor": 2
}
